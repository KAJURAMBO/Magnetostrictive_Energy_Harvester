{
 "cells": [
  {
   "cell_type": "code",
   "execution_count": 2,
   "metadata": {},
   "outputs": [
    {
     "name": "stdout",
     "output_type": "stream",
     "text": [
      "Libraries imported - ready to use PyTorch 1.12.1+cpu\n"
     ]
    }
   ],
   "source": [
    "%matplotlib inline\n",
    "import pandas as pd\n",
    "import numpy as np\n",
    "import matplotlib.pyplot as plt\n",
    "import matplotlib as mpl\n",
    "import seaborn as sns\n",
    "import itertools\n",
    "import os\n",
    "from scipy import stats\n",
    "from scipy import constants\n",
    "from scipy.integrate import odeint\n",
    "from scipy.optimize import curve_fit\n",
    "\n",
    "\n",
    "from tensorflow.keras import layers\n",
    "import tensorflow.keras.callbacks\n",
    "from tensorflow.keras.wrappers.scikit_learn import KerasRegressor\n",
    "import keras\n",
    "from keras.layers import  Input, Flatten, Dense, Lambda, Reshape\n",
    "from keras.layers import BatchNormalization\n",
    "from keras.models import Model\n",
    "from keras import backend as K\n",
    "import tensorflow as tf\n",
    "tf.compat.v1.disable_eager_execution()\n",
    "\n",
    "\n",
    "from sklearn.pipeline import Pipeline\n",
    "from sklearn.model_selection import RandomizedSearchCV, train_test_split, GridSearchCV\n",
    "from sklearn.preprocessing import  MinMaxScaler\n",
    "from sklearn.tree import DecisionTreeRegressor\n",
    "from sklearn.svm import SVR\n",
    "from sklearn.ensemble import RandomForestRegressor, ExtraTreesRegressor, GradientBoostingRegressor, StackingRegressor, VotingRegressor\n",
    "from sklearn.multioutput import MultiOutputRegressor\n",
    "from sklearn.model_selection import train_test_split\n",
    "from sklearn.base import BaseEstimator, TransformerMixin\n",
    "from sklearn.metrics import mean_squared_error\n",
    "\n",
    "import torch\n",
    "import torch.nn as nn\n",
    "import torch.utils.data as td\n",
    "\n",
    "# Set random seed for reproducability\n",
    "torch.manual_seed(0)\n",
    "\n",
    "print(\"Libraries imported - ready to use PyTorch\", torch.__version__)"
   ]
  },
  {
   "cell_type": "code",
   "execution_count": 123,
   "metadata": {},
   "outputs": [],
   "source": [
    "data_h_lhs=pd.read_csv('h_LHS.csv',index_col=False)\n",
    "data_h_T_lhs=pd.read_csv('h_T_LHS.csv',index_col=False)\n",
    "data_lambda_lhs=pd.read_csv('lambda_LHS.csv',index_col=False)\n",
    "data_T_lhs=pd.read_csv('T_LHS.csv',index_col=False)\n",
    "\n",
    "data_h_uniform_5000=pd.read_csv('h_uniform_5000.csv',index_col=False)\n",
    "data_T_uniform_5000=pd.read_csv('T_uniform_5000.csv',index_col=False)"
   ]
  },
  {
   "cell_type": "code",
   "execution_count": 8,
   "metadata": {},
   "outputs": [],
   "source": [
    "X = data_h_T_lhs.values## Input to first NN(h,T)\n",
    "Y=data_lambda_lhs.values ## Output of first NN(Lambda) for MSE\n",
    "\n",
    "# Scaling for only inputs\n",
    "min_max_scaler =MinMaxScaler()\n",
    "\n",
    "X_scale= min_max_scaler.fit_transform(X)\n",
    "X_train, X_val_and_test, Y_train, Y_val_and_test = train_test_split(X_scale, Y, test_size=0.3) ## Train and validation set(Train=3500 Validation=1500)\n",
    "X_val, X_test, Y_val, Y_test = train_test_split(X_val_and_test, Y_val_and_test, test_size=0.5)  ## validation and test set(Validatioin=750 Test=750)\n",
    "\n",
    "X_h=data_h_lhs.values## Input to Second NN(h) along with output from NN\n",
    "Y_T=data_T_lhs.values ## Output for second NN(T) for MSE\n",
    "h_scale=min_max_scaler.fit_transform(X_h)\n",
    "T_scale=min_max_scaler.fit_transform(Y_T)\n",
    "h_train, h_val_and_test, Y_T_train, Y_T_val_and_test = train_test_split(h_scale, T_scale, test_size=0.3) ## Train and validation set(Train=3500 Validation=1500)\n",
    "h_val, h_test, Y_T_val, Y_T_test = train_test_split(h_val_and_test, Y_T_val_and_test, test_size=0.5)  ## validation and test set(Validatioin=750 Test=750)\n",
    "\n"
   ]
  },
  {
   "cell_type": "code",
   "execution_count": 32,
   "metadata": {},
   "outputs": [
    {
     "name": "stdout",
     "output_type": "stream",
     "text": [
      "Model: \"sequential_3\"\n",
      "_________________________________________________________________\n",
      " Layer (type)                Output Shape              Param #   \n",
      "=================================================================\n",
      " dense_6 (Dense)             (None, 64)                192       \n",
      "                                                                 \n",
      " dense_7 (Dense)             (None, 32)                2080      \n",
      "                                                                 \n",
      " dropout_3 (Dropout)         (None, 32)                0         \n",
      "                                                                 \n",
      " class (Dense)               (None, 1)                 33        \n",
      "                                                                 \n",
      "=================================================================\n",
      "Total params: 2,305\n",
      "Trainable params: 2,305\n",
      "Non-trainable params: 0\n",
      "_________________________________________________________________\n"
     ]
    }
   ],
   "source": [
    "model = keras.Sequential()\n",
    "model.add(layers.Dense(64, input_dim=2, activation='relu'))  ##input layer with two input as (h,T)\n",
    "model.add(layers.Dense(32, activation='relu'))   ## Hidden layer\n",
    "model.add(layers.Dropout(0.1))\n",
    "model.add(layers.Dense(1, activation='linear', name='class'))\n",
    "# model.add(layers.Dense(64, input_dim=2, activation='relu'))  ##input layer with two input as (h,T)\n",
    "# model.add(layers.Dense(32, activation='relu'))   ## Hidden layer\n",
    "# model.add(layers.Dropout(0.1))\n",
    "# model.add(layers.Dense(1, activation='linear', name='class_Secind NN'))\n",
    "\n",
    "model.summary()"
   ]
  },
  {
   "cell_type": "code",
   "execution_count": 31,
   "metadata": {},
   "outputs": [
    {
     "name": "stdout",
     "output_type": "stream",
     "text": [
      "Train on 3500 samples\n",
      "Epoch 1/20\n",
      "3500/3500 [==============================] - 1s 188us/sample - loss: 2.9044e-07\n",
      "Epoch 2/20\n",
      "3500/3500 [==============================] - 0s 54us/sample - loss: 2.5255e-07\n",
      "Epoch 3/20\n",
      "3500/3500 [==============================] - 0s 53us/sample - loss: 2.4971e-07\n",
      "Epoch 4/20\n",
      "3500/3500 [==============================] - 0s 50us/sample - loss: 2.5307e-07\n",
      "Epoch 5/20\n",
      "3500/3500 [==============================] - 0s 52us/sample - loss: 2.5054e-07\n",
      "Epoch 6/20\n",
      "3500/3500 [==============================] - 0s 50us/sample - loss: 2.5383e-07\n",
      "Epoch 7/20\n",
      "3500/3500 [==============================] - 0s 47us/sample - loss: 2.5086e-07\n",
      "Epoch 8/20\n",
      "3500/3500 [==============================] - 0s 47us/sample - loss: 2.5375e-07\n",
      "Epoch 9/20\n",
      "3500/3500 [==============================] - 0s 58us/sample - loss: 2.4976e-07\n",
      "Epoch 10/20\n",
      "3500/3500 [==============================] - 0s 42us/sample - loss: 2.5292e-07\n",
      "Epoch 11/20\n",
      "3500/3500 [==============================] - 0s 44us/sample - loss: 2.5288e-07\n",
      "Epoch 12/20\n",
      "3500/3500 [==============================] - 0s 52us/sample - loss: 2.5096e-07\n",
      "Epoch 13/20\n",
      "3500/3500 [==============================] - 0s 49us/sample - loss: 2.5353e-07\n",
      "Epoch 14/20\n",
      "3500/3500 [==============================] - 0s 50us/sample - loss: 2.5189e-07\n",
      "Epoch 15/20\n",
      "3500/3500 [==============================] - 0s 51us/sample - loss: 2.5230e-07\n",
      "Epoch 16/20\n",
      "3500/3500 [==============================] - 0s 48us/sample - loss: 2.5220e-07\n",
      "Epoch 17/20\n",
      "3500/3500 [==============================] - 0s 49us/sample - loss: 2.5134e-07\n",
      "Epoch 18/20\n",
      "3500/3500 [==============================] - 0s 47us/sample - loss: 2.5097e-07\n",
      "Epoch 19/20\n",
      "3500/3500 [==============================] - 0s 46us/sample - loss: 2.5087e-07\n",
      "Epoch 20/20\n",
      "3500/3500 [==============================] - 0s 47us/sample - loss: 2.5553e-07\n"
     ]
    }
   ],
   "source": [
    "optimizer = tf.keras.optimizers.Adam(learning_rate=0.001)\n",
    "model.compile(loss='mse')\n",
    "NN_lambda=model.fit(X_train, Y_train, epochs=20)\n",
    "input_nn2=[NN_lambda,h_train]\n",
    "NN_T=model.fit(input_nn2,Y_T_train)\n",
    "out_T=NN_T\n",
    "losses=loss(NN_lambda,Y_train,Y_T_train,out_T)\n"
   ]
  },
  {
   "cell_type": "code",
   "execution_count": 125,
   "metadata": {},
   "outputs": [],
   "source": [
    "### Reading values only\n",
    "h_in=data_h_lhs.values\n",
    "T_in=data_T_lhs.values\n",
    "Lambda_in=data_lambda_lhs.values\n",
    "\n",
    "# Scaling the input and outputs\n",
    "min_max_scaler =MinMaxScaler()\n",
    "h_scale_in= min_max_scaler.fit_transform(h_in)\n",
    "T_scale_in= min_max_scaler.fit_transform(T_in)\n",
    "Lambda_scale_in= min_max_scaler.fit_transform(Lambda_in)\n",
    "\n",
    "## Converting into tensor for nn\n",
    "h_tensor=torch.Tensor(h_scale_in)\n",
    "T_tensor=torch.Tensor(T_scale_in)\n",
    "Lambda_tensor=torch.Tensor(Lambda_scale_in)\n",
    "\n",
    "\n",
    "##test Data preparation\n",
    "h_test_in_5000=data_h_uniform_5000.values\n",
    "T_test_in_5000=data_T_uniform_5000.values\n",
    "\n",
    "scale_h_test_in_5000=min_max_scaler.fit_transform(h_test_in_5000)\n",
    "scale_T_test_in_5000=min_max_scaler.fit_transform(T_test_in_5000)\n",
    "\n",
    "\n",
    "h_tensor_5000=torch.Tensor(scale_h_test_in_5000)\n",
    "T_tensor_5000=torch.Tensor(scale_T_test_in_5000)\n",
    "\n",
    "\n",
    "# zipped_tensor=zip(h_tensor,T_tensor,Lambda_tensor)\n",
    "# tuple = (h_tensor, T_tensor)\n",
    "# new_tensor = torch.cat(tuple,-1)\n",
    "# T = torch.stack((h_tensor,T_tensor), -1)  ## this one is working\n",
    "# new_tensor"
   ]
  },
  {
   "cell_type": "code",
   "execution_count": 95,
   "metadata": {},
   "outputs": [
    {
     "name": "stdout",
     "output_type": "stream",
     "text": [
      "Net(\n",
      "  (fc1): Linear(in_features=2, out_features=32, bias=True)\n",
      "  (fc2): Linear(in_features=32, out_features=64, bias=True)\n",
      "  (fc3): Linear(in_features=64, out_features=1, bias=True)\n",
      "  (fc4): Linear(in_features=2, out_features=32, bias=True)\n",
      "  (fc5): Linear(in_features=32, out_features=64, bias=True)\n",
      "  (fc6): Linear(in_features=64, out_features=1, bias=True)\n",
      ")\n"
     ]
    }
   ],
   "source": [
    "# Define the neural network\n",
    "class Net(nn.Module):\n",
    "    def __init__(self):\n",
    "        super(Net, self).__init__()\n",
    "        self.fc1 = nn.Linear(2, 32)\n",
    "        self.fc2 = nn.Linear(32, 64)\n",
    "        self.fc3 = nn.Linear(64, 1)\n",
    "        self.fc4 = nn.Linear(2, 32)\n",
    "        self.fc5 = nn.Linear(32, 64)\n",
    "        self.fc6 = nn.Linear(64, 1)\n",
    "\n",
    "    def forward(self, h,T):\n",
    "        \n",
    "        tuple_in1 = (h_tensor, T_tensor)\n",
    "        in_1 = torch.cat(tuple_in1,-1)\n",
    "        # in_1 = torch.stack(h,T)\n",
    "        # in_1=torch.concat(h,T)\n",
    "        x1 = torch.relu(self.fc1(in_1))\n",
    "        x2 = torch.relu(self.fc2(x1))\n",
    "        output_1 = self.fc3(x2)\n",
    "\n",
    "        tuple_in2 = (output_1, T_tensor)\n",
    "        in_2 = torch.cat(tuple_in2,-1)\n",
    "        # in_2 = torch.stack(output_1,h)\n",
    "        # in_2=torch.concat(output_1,h)\n",
    "        x3 = torch.relu(self.fc4(in_2))\n",
    "        x4 = torch.relu(self.fc5(x3))\n",
    "        output_2 = self.fc6(x4)\n",
    "        return output_1,output_2\n",
    "\n",
    "# Create a model instance from the network\n",
    "model = Net()\n",
    "print(model)\n"
   ]
  },
  {
   "cell_type": "code",
   "execution_count": 104,
   "metadata": {},
   "outputs": [],
   "source": [
    "\n",
    "loss_criteria=nn.MSELoss()\n",
    "def train(model,h,T,lam,optimizer):\n",
    "  for i in range(len(h)):\n",
    "    model.train()\n",
    "    \n",
    "    # for i in range(len(h)):\n",
    "    # optimizer.zero_grad()\n",
    "    out1,out2=model(h[i],T[i])\n",
    "    loss1=loss_criteria(out1[i],lam[i])\n",
    "    loss2=loss_criteria(out2[i],T[i])\n",
    "    loss=loss1+loss2\n",
    "    \n",
    "    optimizer.zero_grad()\n",
    "    loss.backward()\n",
    "    optimizer.step()\n",
    "  return loss,out1,out2"
   ]
  },
  {
   "cell_type": "code",
   "execution_count": 148,
   "metadata": {},
   "outputs": [
    {
     "name": "stdout",
     "output_type": "stream",
     "text": [
      "Epoch: 1\n",
      "Epoch: 2\n",
      "Epoch: 3\n",
      "Epoch: 4\n",
      "Epoch: 5\n",
      "Epoch: 6\n",
      "Epoch: 7\n",
      "Epoch: 8\n",
      "Epoch: 9\n",
      "Epoch: 10\n",
      "Epoch: 11\n",
      "Epoch: 12\n",
      "Epoch: 13\n",
      "Epoch: 14\n",
      "Epoch: 15\n",
      "Epoch: 16\n",
      "Epoch: 17\n",
      "Epoch: 18\n",
      "Epoch: 19\n",
      "Epoch: 20\n",
      "Epoch: 21\n",
      "Epoch: 22\n",
      "Epoch: 23\n",
      "Epoch: 24\n",
      "Epoch: 25\n",
      "Epoch: 26\n",
      "Epoch: 27\n",
      "Epoch: 28\n",
      "Epoch: 29\n",
      "Epoch: 30\n",
      "Epoch: 31\n",
      "Epoch: 32\n",
      "Epoch: 33\n",
      "Epoch: 34\n",
      "Epoch: 35\n",
      "Epoch: 36\n",
      "Epoch: 37\n",
      "Epoch: 38\n",
      "Epoch: 39\n",
      "Epoch: 40\n",
      "Epoch: 41\n",
      "Epoch: 42\n",
      "Epoch: 43\n",
      "Epoch: 44\n",
      "Epoch: 45\n",
      "Epoch: 46\n",
      "Epoch: 47\n",
      "Epoch: 48\n",
      "Epoch: 49\n",
      "Epoch: 50\n"
     ]
    }
   ],
   "source": [
    "learning_rate = 0.001\n",
    "optimizer = torch.optim.Adam(model.parameters(), lr=learning_rate)\n",
    "# optimizer.zero_grad()\n",
    "\n",
    "# We'll track metrics for each epoch in these arrays\n",
    "epoch_nums = []\n",
    "training_loss = []\n",
    "# validation_loss = []\n",
    "\n",
    "\n",
    "epochs = 50\n",
    "for epoch in range(1, epochs + 1):\n",
    "\n",
    "    # print the epoch number\n",
    "    print('Epoch: {}'.format(epoch))\n",
    "    \n",
    "    # Feed training data into the model to optimize the weights\n",
    "    train_loss = train(model,h_tensor,T_tensor,Lambda_tensor , optimizer)\n",
    "    \n",
    "    # Log the metrics for this epoch\n",
    "    epoch_nums.append(epoch)\n",
    "    training_loss.append(train_loss)\n",
    "    # validation_loss.append(test_loss)\n",
    "    \n",
    "    \n"
   ]
  },
  {
   "cell_type": "code",
   "execution_count": 149,
   "metadata": {},
   "outputs": [],
   "source": [
    "prediction_5000=model(h_tensor_5000,T_tensor_5000)"
   ]
  },
  {
   "cell_type": "code",
   "execution_count": 150,
   "metadata": {},
   "outputs": [
    {
     "data": {
      "text/plain": [
       "(tensor([[0.0230],\n",
       "         [0.2972],\n",
       "         [0.7689],\n",
       "         ...,\n",
       "         [0.3062],\n",
       "         [0.6976],\n",
       "         [0.0613]], grad_fn=<AddmmBackward0>),\n",
       " tensor([[1.0002],\n",
       "         [1.0001],\n",
       "         [1.0005],\n",
       "         ...,\n",
       "         [1.0000],\n",
       "         [1.0004],\n",
       "         [1.0000]], grad_fn=<AddmmBackward0>))"
      ]
     },
     "execution_count": 150,
     "metadata": {},
     "output_type": "execute_result"
    }
   ],
   "source": [
    "prediction_5000[1],prediction_5000[0]  ## outputs from NN as T(out2) and lambda(out1) respectively"
   ]
  },
  {
   "cell_type": "code",
   "execution_count": 151,
   "metadata": {},
   "outputs": [],
   "source": [
    "inverse_scaled_lambda_5000=min_max_scaler.inverse_transform(prediction_5000[0].detach().numpy())\n",
    "inverse_scaled_T_5000=min_max_scaler.inverse_transform(prediction_5000[1].detach().numpy())"
   ]
  },
  {
   "cell_type": "code",
   "execution_count": 152,
   "metadata": {},
   "outputs": [
    {
     "data": {
      "text/plain": [
       "array([[ 7642.269 ],\n",
       "       [ 5546.808 ],\n",
       "       [23554.324 ],\n",
       "       ...,\n",
       "       [ 1047.7305],\n",
       "       [17929.078 ],\n",
       "       [  750.7801]], dtype=float32)"
      ]
     },
     "execution_count": 152,
     "metadata": {},
     "output_type": "execute_result"
    }
   ],
   "source": [
    "inverse_scaled_lambda_5000"
   ]
  },
  {
   "cell_type": "code",
   "execution_count": 1,
   "metadata": {},
   "outputs": [
    {
     "ename": "NameError",
     "evalue": "name 'inverse_scaled_lambda_5000' is not defined",
     "output_type": "error",
     "traceback": [
      "\u001b[1;31m---------------------------------------------------------------------------\u001b[0m",
      "\u001b[1;31mNameError\u001b[0m                                 Traceback (most recent call last)",
      "\u001b[1;32md:\\Desktop\\Gate 2021\\Applied\\College\\IITD\\APPLIED MECHANICS\\FINAL PROJECT MAGNETOSTRICTIVE\\codes\\Final Data\\LHS_NN.ipynb Cell 14\u001b[0m in \u001b[0;36m<cell line: 1>\u001b[1;34m()\u001b[0m\n\u001b[1;32m----> <a href='vscode-notebook-cell:/d%3A/Desktop/Gate%202021/Applied/College/IITD/APPLIED%20MECHANICS/FINAL%20PROJECT%20MAGNETOSTRICTIVE/codes/Final%20Data/LHS_NN.ipynb#X21sZmlsZQ%3D%3D?line=0'>1</a>\u001b[0m inverse_scaled_lambda_5000\n",
      "\u001b[1;31mNameError\u001b[0m: name 'inverse_scaled_lambda_5000' is not defined"
     ]
    }
   ],
   "source": [
    "inverse_scaled_lambda_5000"
   ]
  },
  {
   "cell_type": "code",
   "execution_count": 154,
   "metadata": {},
   "outputs": [
    {
     "data": {
      "text/plain": [
       "array([[-47000000.        ],\n",
       "       [-46525253.70754302],\n",
       "       [-46050507.41508603],\n",
       "       ...,\n",
       "       [  -949254.98962402],\n",
       "       [  -474627.49481201],\n",
       "       [        0.        ]])"
      ]
     },
     "execution_count": 154,
     "metadata": {},
     "output_type": "execute_result"
    }
   ],
   "source": [
    "h_inverse_scaled=min_max_scaler.inverse_transform(h_tensor_5000)\n",
    "h_inverse_scaled"
   ]
  },
  {
   "cell_type": "code",
   "execution_count": 155,
   "metadata": {},
   "outputs": [
    {
     "data": {
      "text/plain": [
       "<matplotlib.collections.PathCollection at 0x15e100394e0>"
      ]
     },
     "execution_count": 155,
     "metadata": {},
     "output_type": "execute_result"
    },
    {
     "data": {
      "image/png": "[encoded data removed]",
      "text/plain": [
       "<Figure size 432x288 with 1 Axes>"
      ]
     },
     "metadata": {
      "needs_background": "light"
     },
     "output_type": "display_data"
    }
   ],
   "source": [
    "plt.scatter(h_inverse_scaled[0:100]/1000,inverse_scaled_lambda_5000[0:100]/10**(6))"
   ]
  },
  {
   "cell_type": "code",
   "execution_count": null,
   "metadata": {},
   "outputs": [],
   "source": [
    "plt.scatter(h_inverse_scaled[0:100]/1000,inverse_scaled_lambda_5000[0:100]/10**(6))"
   ]
  }
 ],
 "metadata": {
  "kernelspec": {
   "display_name": "Python 3.10.7 64-bit (windows store)",
   "language": "python",
   "name": "python3"
  },
  "language_info": {
   "codemirror_mode": {
    "name": "ipython",
    "version": 3
   },
   "file_extension": ".py",
   "mimetype": "text/x-python",
   "name": "python",
   "nbconvert_exporter": "python",
   "pygments_lexer": "ipython3",
   "version": "3.10.7"
  },
  "orig_nbformat": 4,
  "vscode": {
   "interpreter": {
    "hash": "be0c76a15e7db832c1cef9e000d0973fde535108692ea45e0855d7f2c98f1a97"
   }
  }
 },
 "nbformat": 4,
 "nbformat_minor": 2
}

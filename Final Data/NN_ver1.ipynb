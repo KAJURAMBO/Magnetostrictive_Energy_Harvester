{
 "cells": [
  {
   "cell_type": "code",
   "execution_count": 1,
   "metadata": {},
   "outputs": [],
   "source": [
    "%matplotlib inline\n",
    "import pandas as pd\n",
    "import numpy as np\n",
    "import matplotlib.pyplot as plt\n",
    "import matplotlib as mpl\n",
    "import seaborn as sns\n",
    "import itertools\n",
    "import os\n",
    "from scipy import stats\n",
    "from scipy import constants\n",
    "from scipy.integrate import odeint\n",
    "from scipy.optimize import curve_fit\n"
   ]
  },
  {
   "cell_type": "code",
   "execution_count": 118,
   "metadata": {},
   "outputs": [],
   "source": [
    "from tensorflow.keras import layers\n",
    "import tensorflow.keras.callbacks\n",
    "from tensorflow.keras.wrappers.scikit_learn import KerasRegressor"
   ]
  },
  {
   "cell_type": "code",
   "execution_count": 2,
   "metadata": {},
   "outputs": [],
   "source": [
    "from sklearn.pipeline import Pipeline\n",
    "from sklearn.model_selection import RandomizedSearchCV, train_test_split, GridSearchCV\n",
    "from sklearn.preprocessing import StandardScaler, MinMaxScaler\n",
    "from sklearn.tree import DecisionTreeRegressor\n",
    "from sklearn.svm import SVR\n",
    "from sklearn.ensemble import RandomForestRegressor, ExtraTreesRegressor, GradientBoostingRegressor, StackingRegressor, VotingRegressor\n",
    "from sklearn.multioutput import MultiOutputRegressor\n",
    "from sklearn.model_selection import train_test_split\n",
    "from sklearn.base import BaseEstimator, TransformerMixin\n",
    "from sklearn.metrics import mean_squared_error"
   ]
  },
  {
   "cell_type": "code",
   "execution_count": 111,
   "metadata": {},
   "outputs": [],
   "source": [
    "\n",
    "import keras\n",
    "from keras.layers import  Input, Flatten, Dense, Lambda, Reshape\n",
    "from keras.layers import BatchNormalization\n",
    "from keras.models import Model\n",
    "from keras import backend as K\n",
    "import tensorflow as tf\n",
    "tf.compat.v1.disable_eager_execution()"
   ]
  },
  {
   "cell_type": "code",
   "execution_count": 94,
   "metadata": {},
   "outputs": [],
   "source": [
    "dataset = 'Final_LHS_100_5000.csv'\n",
    "#path_dataset = 'example-stress-strain-curve.csv'\n",
    "df_stress= pd.read_csv(dataset,index_col=False)\n",
    "NUM_DATAPOINTS, NUM_VARS  = 5000,2"
   ]
  },
  {
   "cell_type": "code",
   "execution_count": 74,
   "metadata": {},
   "outputs": [
    {
     "data": {
      "text/html": [
       "<div>\n",
       "<style scoped>\n",
       "    .dataframe tbody tr th:only-of-type {\n",
       "        vertical-align: middle;\n",
       "    }\n",
       "\n",
       "    .dataframe tbody tr th {\n",
       "        vertical-align: top;\n",
       "    }\n",
       "\n",
       "    .dataframe thead th {\n",
       "        text-align: right;\n",
       "    }\n",
       "</style>\n",
       "<table border=\"1\" class=\"dataframe\">\n",
       "  <thead>\n",
       "    <tr style=\"text-align: right;\">\n",
       "      <th></th>\n",
       "      <th>h</th>\n",
       "      <th>T</th>\n",
       "      <th>M</th>\n",
       "      <th>Lambda_lhs</th>\n",
       "      <th>s</th>\n",
       "    </tr>\n",
       "  </thead>\n",
       "  <tbody>\n",
       "    <tr>\n",
       "      <th>0</th>\n",
       "      <td>-1823.264575</td>\n",
       "      <td>1.073649e+06</td>\n",
       "      <td>366000</td>\n",
       "      <td>0.000000e+00</td>\n",
       "      <td>0.000018</td>\n",
       "    </tr>\n",
       "    <tr>\n",
       "      <th>1</th>\n",
       "      <td>-16179.533080</td>\n",
       "      <td>1.427669e+07</td>\n",
       "      <td>365000</td>\n",
       "      <td>-1.000000e-07</td>\n",
       "      <td>0.000242</td>\n",
       "    </tr>\n",
       "    <tr>\n",
       "      <th>2</th>\n",
       "      <td>-25519.968090</td>\n",
       "      <td>3.688392e+07</td>\n",
       "      <td>365000</td>\n",
       "      <td>-1.000000e-07</td>\n",
       "      <td>0.000625</td>\n",
       "    </tr>\n",
       "    <tr>\n",
       "      <th>3</th>\n",
       "      <td>-16290.401890</td>\n",
       "      <td>8.145517e+06</td>\n",
       "      <td>367000</td>\n",
       "      <td>2.000000e-07</td>\n",
       "      <td>0.000138</td>\n",
       "    </tr>\n",
       "    <tr>\n",
       "      <th>4</th>\n",
       "      <td>-7512.268957</td>\n",
       "      <td>2.946106e+07</td>\n",
       "      <td>368000</td>\n",
       "      <td>5.000000e-07</td>\n",
       "      <td>0.000500</td>\n",
       "    </tr>\n",
       "    <tr>\n",
       "      <th>...</th>\n",
       "      <td>...</td>\n",
       "      <td>...</td>\n",
       "      <td>...</td>\n",
       "      <td>...</td>\n",
       "      <td>...</td>\n",
       "    </tr>\n",
       "    <tr>\n",
       "      <th>4995</th>\n",
       "      <td>-24612.667210</td>\n",
       "      <td>1.584058e+07</td>\n",
       "      <td>1460000</td>\n",
       "      <td>1.910000e-04</td>\n",
       "      <td>0.000459</td>\n",
       "    </tr>\n",
       "    <tr>\n",
       "      <th>4996</th>\n",
       "      <td>-29893.433730</td>\n",
       "      <td>4.782813e+05</td>\n",
       "      <td>1460000</td>\n",
       "      <td>1.910000e-04</td>\n",
       "      <td>0.000199</td>\n",
       "    </tr>\n",
       "    <tr>\n",
       "      <th>4997</th>\n",
       "      <td>-19765.402220</td>\n",
       "      <td>1.470620e+07</td>\n",
       "      <td>1460000</td>\n",
       "      <td>1.910000e-04</td>\n",
       "      <td>0.000440</td>\n",
       "    </tr>\n",
       "    <tr>\n",
       "      <th>4998</th>\n",
       "      <td>-10927.531420</td>\n",
       "      <td>3.345389e+07</td>\n",
       "      <td>1460000</td>\n",
       "      <td>1.910000e-04</td>\n",
       "      <td>0.000758</td>\n",
       "    </tr>\n",
       "    <tr>\n",
       "      <th>4999</th>\n",
       "      <td>-8536.111943</td>\n",
       "      <td>2.975587e+06</td>\n",
       "      <td>1460000</td>\n",
       "      <td>1.910000e-04</td>\n",
       "      <td>0.000241</td>\n",
       "    </tr>\n",
       "  </tbody>\n",
       "</table>\n",
       "<p>5000 rows × 5 columns</p>\n",
       "</div>"
      ],
      "text/plain": [
       "                 h             T        M    Lambda_lhs         s\n",
       "0     -1823.264575  1.073649e+06   366000  0.000000e+00  0.000018\n",
       "1    -16179.533080  1.427669e+07   365000 -1.000000e-07  0.000242\n",
       "2    -25519.968090  3.688392e+07   365000 -1.000000e-07  0.000625\n",
       "3    -16290.401890  8.145517e+06   367000  2.000000e-07  0.000138\n",
       "4     -7512.268957  2.946106e+07   368000  5.000000e-07  0.000500\n",
       "...            ...           ...      ...           ...       ...\n",
       "4995 -24612.667210  1.584058e+07  1460000  1.910000e-04  0.000459\n",
       "4996 -29893.433730  4.782813e+05  1460000  1.910000e-04  0.000199\n",
       "4997 -19765.402220  1.470620e+07  1460000  1.910000e-04  0.000440\n",
       "4998 -10927.531420  3.345389e+07  1460000  1.910000e-04  0.000758\n",
       "4999  -8536.111943  2.975587e+06  1460000  1.910000e-04  0.000241\n",
       "\n",
       "[5000 rows x 5 columns]"
      ]
     },
     "execution_count": 74,
     "metadata": {},
     "output_type": "execute_result"
    }
   ],
   "source": [
    "df_stress.drop('Unnamed: 0',axis=1)"
   ]
  },
  {
   "cell_type": "code",
   "execution_count": 75,
   "metadata": {},
   "outputs": [],
   "source": [
    "h_aug=df_stress['h']"
   ]
  },
  {
   "cell_type": "code",
   "execution_count": 76,
   "metadata": {},
   "outputs": [],
   "source": [
    "data=df_stress.drop(['M','Lambda_lhs','s'],axis=1)"
   ]
  },
  {
   "cell_type": "code",
   "execution_count": 77,
   "metadata": {},
   "outputs": [],
   "source": [
    "input_hT=data.drop('Unnamed: 0',axis=1)"
   ]
  },
  {
   "cell_type": "code",
   "execution_count": 78,
   "metadata": {},
   "outputs": [],
   "source": [
    "targets=df_stress['Lambda_lhs']"
   ]
  },
  {
   "cell_type": "code",
   "execution_count": 79,
   "metadata": {},
   "outputs": [],
   "source": [
    "X_train, X_test, y_train, y_test = train_test_split(input_hT, targets, test_size=0.3)"
   ]
  },
  {
   "cell_type": "code",
   "execution_count": 109,
   "metadata": {},
   "outputs": [
    {
     "data": {
      "text/plain": [
       "array([[-1.03847674e+04,  2.08758391e+07],\n",
       "       [-1.54382506e+04,  4.07189605e+07],\n",
       "       [-1.99235923e+04,  1.57590173e+07],\n",
       "       ...,\n",
       "       [-2.96504297e+04,  3.89426430e+07],\n",
       "       [-1.40448542e+04,  2.83100402e+07],\n",
       "       [-1.03246638e+04,  2.70742333e+07]])"
      ]
     },
     "execution_count": 109,
     "metadata": {},
     "output_type": "execute_result"
    }
   ],
   "source": [
    "X_train.to_numpy()"
   ]
  },
  {
   "cell_type": "code",
   "execution_count": 137,
   "metadata": {},
   "outputs": [],
   "source": [
    "df=pd.read_csv('Final_LHS_100_5000.csv',index_col=False)\n",
    "dataset = df.values\n",
    "X = dataset[:,1:3]\n",
    "dataset_Y=df['Lambda_lhs']\n",
    "Y=dataset_Y.values\n",
    "X.shape\n",
    "min_max_scaler =MinMaxScaler()\n",
    "X_scale= min_max_scaler.fit_transform(X)\n",
    "X_train, X_val_and_test, Y_train, Y_val_and_test = train_test_split(X_scale, Y, test_size=0.3)\n",
    "X_val, X_test, Y_val, Y_test = train_test_split(X_val_and_test, Y_val_and_test, test_size=0.5)"
   ]
  },
  {
   "cell_type": "code",
   "execution_count": 138,
   "metadata": {},
   "outputs": [
    {
     "data": {
      "text/html": [
       "<div>\n",
       "<style scoped>\n",
       "    .dataframe tbody tr th:only-of-type {\n",
       "        vertical-align: middle;\n",
       "    }\n",
       "\n",
       "    .dataframe tbody tr th {\n",
       "        vertical-align: top;\n",
       "    }\n",
       "\n",
       "    .dataframe thead th {\n",
       "        text-align: right;\n",
       "    }\n",
       "</style>\n",
       "<table border=\"1\" class=\"dataframe\">\n",
       "  <thead>\n",
       "    <tr style=\"text-align: right;\">\n",
       "      <th></th>\n",
       "      <th>Unnamed: 0</th>\n",
       "      <th>h</th>\n",
       "      <th>T</th>\n",
       "      <th>M</th>\n",
       "      <th>Lambda_lhs</th>\n",
       "      <th>s</th>\n",
       "    </tr>\n",
       "  </thead>\n",
       "  <tbody>\n",
       "    <tr>\n",
       "      <th>0</th>\n",
       "      <td>0</td>\n",
       "      <td>-1823.264575</td>\n",
       "      <td>1.073649e+06</td>\n",
       "      <td>366000</td>\n",
       "      <td>0.000000e+00</td>\n",
       "      <td>0.000018</td>\n",
       "    </tr>\n",
       "    <tr>\n",
       "      <th>1</th>\n",
       "      <td>1</td>\n",
       "      <td>-16179.533080</td>\n",
       "      <td>1.427669e+07</td>\n",
       "      <td>365000</td>\n",
       "      <td>-1.000000e-07</td>\n",
       "      <td>0.000242</td>\n",
       "    </tr>\n",
       "    <tr>\n",
       "      <th>2</th>\n",
       "      <td>2</td>\n",
       "      <td>-25519.968090</td>\n",
       "      <td>3.688392e+07</td>\n",
       "      <td>365000</td>\n",
       "      <td>-1.000000e-07</td>\n",
       "      <td>0.000625</td>\n",
       "    </tr>\n",
       "    <tr>\n",
       "      <th>3</th>\n",
       "      <td>3</td>\n",
       "      <td>-16290.401890</td>\n",
       "      <td>8.145517e+06</td>\n",
       "      <td>367000</td>\n",
       "      <td>2.000000e-07</td>\n",
       "      <td>0.000138</td>\n",
       "    </tr>\n",
       "    <tr>\n",
       "      <th>4</th>\n",
       "      <td>4</td>\n",
       "      <td>-7512.268957</td>\n",
       "      <td>2.946106e+07</td>\n",
       "      <td>368000</td>\n",
       "      <td>5.000000e-07</td>\n",
       "      <td>0.000500</td>\n",
       "    </tr>\n",
       "    <tr>\n",
       "      <th>...</th>\n",
       "      <td>...</td>\n",
       "      <td>...</td>\n",
       "      <td>...</td>\n",
       "      <td>...</td>\n",
       "      <td>...</td>\n",
       "      <td>...</td>\n",
       "    </tr>\n",
       "    <tr>\n",
       "      <th>4995</th>\n",
       "      <td>4995</td>\n",
       "      <td>-24612.667210</td>\n",
       "      <td>1.584058e+07</td>\n",
       "      <td>1460000</td>\n",
       "      <td>1.910000e-04</td>\n",
       "      <td>0.000459</td>\n",
       "    </tr>\n",
       "    <tr>\n",
       "      <th>4996</th>\n",
       "      <td>4996</td>\n",
       "      <td>-29893.433730</td>\n",
       "      <td>4.782813e+05</td>\n",
       "      <td>1460000</td>\n",
       "      <td>1.910000e-04</td>\n",
       "      <td>0.000199</td>\n",
       "    </tr>\n",
       "    <tr>\n",
       "      <th>4997</th>\n",
       "      <td>4997</td>\n",
       "      <td>-19765.402220</td>\n",
       "      <td>1.470620e+07</td>\n",
       "      <td>1460000</td>\n",
       "      <td>1.910000e-04</td>\n",
       "      <td>0.000440</td>\n",
       "    </tr>\n",
       "    <tr>\n",
       "      <th>4998</th>\n",
       "      <td>4998</td>\n",
       "      <td>-10927.531420</td>\n",
       "      <td>3.345389e+07</td>\n",
       "      <td>1460000</td>\n",
       "      <td>1.910000e-04</td>\n",
       "      <td>0.000758</td>\n",
       "    </tr>\n",
       "    <tr>\n",
       "      <th>4999</th>\n",
       "      <td>4999</td>\n",
       "      <td>-8536.111943</td>\n",
       "      <td>2.975587e+06</td>\n",
       "      <td>1460000</td>\n",
       "      <td>1.910000e-04</td>\n",
       "      <td>0.000241</td>\n",
       "    </tr>\n",
       "  </tbody>\n",
       "</table>\n",
       "<p>5000 rows × 6 columns</p>\n",
       "</div>"
      ],
      "text/plain": [
       "      Unnamed: 0             h             T        M    Lambda_lhs         s\n",
       "0              0  -1823.264575  1.073649e+06   366000  0.000000e+00  0.000018\n",
       "1              1 -16179.533080  1.427669e+07   365000 -1.000000e-07  0.000242\n",
       "2              2 -25519.968090  3.688392e+07   365000 -1.000000e-07  0.000625\n",
       "3              3 -16290.401890  8.145517e+06   367000  2.000000e-07  0.000138\n",
       "4              4  -7512.268957  2.946106e+07   368000  5.000000e-07  0.000500\n",
       "...          ...           ...           ...      ...           ...       ...\n",
       "4995        4995 -24612.667210  1.584058e+07  1460000  1.910000e-04  0.000459\n",
       "4996        4996 -29893.433730  4.782813e+05  1460000  1.910000e-04  0.000199\n",
       "4997        4997 -19765.402220  1.470620e+07  1460000  1.910000e-04  0.000440\n",
       "4998        4998 -10927.531420  3.345389e+07  1460000  1.910000e-04  0.000758\n",
       "4999        4999  -8536.111943  2.975587e+06  1460000  1.910000e-04  0.000241\n",
       "\n",
       "[5000 rows x 6 columns]"
      ]
     },
     "execution_count": 138,
     "metadata": {},
     "output_type": "execute_result"
    }
   ],
   "source": [
    "df"
   ]
  },
  {
   "cell_type": "code",
   "execution_count": 146,
   "metadata": {},
   "outputs": [
    {
     "name": "stdout",
     "output_type": "stream",
     "text": [
      "Train on 3500 samples, validate on 750 samples\n",
      "Epoch 1/20\n",
      "3393/3500 [============================>.] - ETA: 0s - loss: 2.4848e-04 - accuracy: 2.9472e-04"
     ]
    },
    {
     "name": "stderr",
     "output_type": "stream",
     "text": [
      "C:\\Users\\rahma\\AppData\\Local\\Packages\\PythonSoftwareFoundation.Python.3.10_qbz5n2kfra8p0\\LocalCache\\local-packages\\Python310\\site-packages\\keras\\engine\\training_v1.py:2045: UserWarning: `Model.state_updates` will be removed in a future version. This property should not be used in TensorFlow 2.0, as `updates` are applied automatically.\n",
      "  updates = self.state_updates\n"
     ]
    },
    {
     "name": "stdout",
     "output_type": "stream",
     "text": [
      "3500/3500 [==============================] - 2s 598us/sample - loss: 2.4090e-04 - accuracy: 2.8571e-04 - val_loss: 2.7762e-07 - val_accuracy: 0.0000e+00\n",
      "Epoch 2/20\n",
      "3500/3500 [==============================] - 2s 504us/sample - loss: 4.1066e-07 - accuracy: 2.8571e-04 - val_loss: 7.2642e-08 - val_accuracy: 0.0000e+00\n",
      "Epoch 3/20\n",
      "3500/3500 [==============================] - 2s 499us/sample - loss: 4.2803e-08 - accuracy: 2.8571e-04 - val_loss: 4.4478e-09 - val_accuracy: 0.0000e+00\n",
      "Epoch 4/20\n",
      "3500/3500 [==============================] - 2s 512us/sample - loss: 7.2220e-09 - accuracy: 2.8571e-04 - val_loss: 4.0496e-09 - val_accuracy: 0.0000e+00\n",
      "Epoch 5/20\n",
      "3500/3500 [==============================] - 2s 503us/sample - loss: 3.3364e-09 - accuracy: 2.8571e-04 - val_loss: 2.5492e-09 - val_accuracy: 0.0000e+00\n",
      "Epoch 6/20\n",
      "3500/3500 [==============================] - 2s 497us/sample - loss: 3.1431e-09 - accuracy: 2.8571e-04 - val_loss: 2.8607e-09 - val_accuracy: 0.0000e+00\n",
      "Epoch 7/20\n",
      "3500/3500 [==============================] - 2s 499us/sample - loss: 3.7669e-09 - accuracy: 2.8571e-04 - val_loss: 2.7565e-09 - val_accuracy: 0.0000e+00\n",
      "Epoch 8/20\n",
      "3500/3500 [==============================] - 2s 492us/sample - loss: 6.0598e-09 - accuracy: 2.8571e-04 - val_loss: 1.2618e-08 - val_accuracy: 0.0000e+00\n",
      "Epoch 9/20\n",
      "3500/3500 [==============================] - 2s 498us/sample - loss: 7.2681e-09 - accuracy: 2.8571e-04 - val_loss: 3.3981e-09 - val_accuracy: 0.0000e+00\n",
      "Epoch 10/20\n",
      "3500/3500 [==============================] - 2s 503us/sample - loss: 1.6708e-08 - accuracy: 2.8571e-04 - val_loss: 3.5702e-09 - val_accuracy: 0.0000e+00\n",
      "Epoch 11/20\n",
      "3500/3500 [==============================] - 2s 496us/sample - loss: 7.9345e-09 - accuracy: 2.8571e-04 - val_loss: 8.9931e-09 - val_accuracy: 0.0000e+00\n",
      "Epoch 12/20\n",
      "3500/3500 [==============================] - 2s 506us/sample - loss: 8.5562e-09 - accuracy: 2.8571e-04 - val_loss: 2.4706e-08 - val_accuracy: 0.0000e+00\n",
      "Epoch 13/20\n",
      "3500/3500 [==============================] - 2s 492us/sample - loss: 9.4649e-09 - accuracy: 2.8571e-04 - val_loss: 5.1760e-09 - val_accuracy: 0.0000e+00\n",
      "Epoch 14/20\n",
      "3500/3500 [==============================] - 2s 506us/sample - loss: 9.1921e-09 - accuracy: 2.8571e-04 - val_loss: 2.2826e-08 - val_accuracy: 0.0000e+00\n",
      "Epoch 15/20\n",
      "3500/3500 [==============================] - 2s 540us/sample - loss: 8.9010e-09 - accuracy: 2.8571e-04 - val_loss: 3.6824e-09 - val_accuracy: 0.0000e+00\n",
      "Epoch 16/20\n",
      "3500/3500 [==============================] - 2s 563us/sample - loss: 8.2166e-09 - accuracy: 2.8571e-04 - val_loss: 2.6130e-08 - val_accuracy: 0.0000e+00\n",
      "Epoch 17/20\n",
      "3500/3500 [==============================] - 2s 506us/sample - loss: 9.3974e-09 - accuracy: 2.8571e-04 - val_loss: 3.9164e-09 - val_accuracy: 0.0000e+00\n",
      "Epoch 18/20\n",
      "3500/3500 [==============================] - 2s 509us/sample - loss: 8.5917e-09 - accuracy: 2.8571e-04 - val_loss: 3.9750e-09 - val_accuracy: 0.0000e+00\n",
      "Epoch 19/20\n",
      "3500/3500 [==============================] - 2s 504us/sample - loss: 9.5524e-09 - accuracy: 2.8571e-04 - val_loss: 2.7258e-09 - val_accuracy: 0.0000e+00\n",
      "Epoch 20/20\n",
      "3500/3500 [==============================] - 2s 504us/sample - loss: 7.8642e-09 - accuracy: 2.8571e-04 - val_loss: 8.3933e-09 - val_accuracy: 0.0000e+00\n"
     ]
    },
    {
     "name": "stderr",
     "output_type": "stream",
     "text": [
      "C:\\Users\\rahma\\AppData\\Local\\Packages\\PythonSoftwareFoundation.Python.3.10_qbz5n2kfra8p0\\LocalCache\\local-packages\\Python310\\site-packages\\keras\\engine\\training_v1.py:2067: UserWarning: `Model.state_updates` will be removed in a future version. This property should not be used in TensorFlow 2.0, as `updates` are applied automatically.\n",
      "  updates=self.state_updates,\n"
     ]
    }
   ],
   "source": [
    "model = keras.Sequential()\n",
    "model.add(layers.Dense(64, input_dim=2, activation='relu'))\n",
    "model.add(layers.Dense(32, activation='relu'))\n",
    "# model.add(layers.Dense(3, activation='relu'))\n",
    "model.add(layers.Dropout(0.1))\n",
    "model.add(layers.Dense(1, activation='linear', name='class'))\n",
    "model.compile(loss='MSE', optimizer='adam', metrics=['accuracy'])\n",
    "hist = model.fit(X_train, Y_train, batch_size=3, epochs=20, validation_data=(X_val, Y_val))\n",
    "\n",
    "\n",
    "\n",
    "model.evaluate(X_test, Y_test)[1]\n",
    "y_pred = model.predict(X_test)\n"
   ]
  },
  {
   "cell_type": "code",
   "execution_count": 222,
   "metadata": {},
   "outputs": [
    {
     "name": "stdout",
     "output_type": "stream",
     "text": [
      "Model: \"sequential_221\"\n",
      "_________________________________________________________________\n",
      " Layer (type)                Output Shape              Param #   \n",
      "=================================================================\n",
      " dense_669 (Dense)           (None, 64)                192       \n",
      "                                                                 \n",
      " dense_670 (Dense)           (None, 32)                2080      \n",
      "                                                                 \n",
      " dropout_221 (Dropout)       (None, 32)                0         \n",
      "                                                                 \n",
      " class (Dense)               (None, 1)                 33        \n",
      "                                                                 \n",
      "=================================================================\n",
      "Total params: 2,305\n",
      "Trainable params: 2,305\n",
      "Non-trainable params: 0\n",
      "_________________________________________________________________\n"
     ]
    }
   ],
   "source": [
    "model.summary()"
   ]
  },
  {
   "cell_type": "code",
   "execution_count": 147,
   "metadata": {},
   "outputs": [
    {
     "data": {
      "image/png": "[encoded data removed]",
      "text/plain": [
       "<Figure size 432x288 with 1 Axes>"
      ]
     },
     "metadata": {
      "needs_background": "light"
     },
     "output_type": "display_data"
    },
    {
     "data": {
      "image/png": "[encoded data removed]",
      "text/plain": [
       "<Figure size 432x288 with 1 Axes>"
      ]
     },
     "metadata": {
      "needs_background": "light"
     },
     "output_type": "display_data"
    }
   ],
   "source": [
    "plt.plot(hist.history['accuracy'])\n",
    "plt.plot(hist.history['val_accuracy'])\n",
    "plt.title('Model accuracy')\n",
    "plt.ylabel('Accuracy')\n",
    "plt.xlabel('Epoch')\n",
    "plt.legend(['Train', 'Val'], loc='lower right')\n",
    "plt.show()\n",
    "\n",
    "\n",
    "plt.plot(hist.history['loss'])\n",
    "plt.plot(hist.history['val_loss'])\n",
    "plt.title('Model loss')\n",
    "plt.ylabel('Loss')\n",
    "plt.xlabel('Epoch')\n",
    "plt.legend(['Train', 'Val'], loc='upper right')\n",
    "plt.show()"
   ]
  },
  {
   "cell_type": "code",
   "execution_count": 140,
   "metadata": {},
   "outputs": [],
   "source": [
    "loss=model.history.history"
   ]
  },
  {
   "cell_type": "code",
   "execution_count": 142,
   "metadata": {},
   "outputs": [
    {
     "data": {
      "text/plain": [
       "dict_keys(['loss', 'accuracy', 'val_loss', 'val_accuracy'])"
      ]
     },
     "execution_count": 142,
     "metadata": {},
     "output_type": "execute_result"
    }
   ],
   "source": [
    "loss.keys()"
   ]
  },
  {
   "cell_type": "code",
   "execution_count": 134,
   "metadata": {},
   "outputs": [
    {
     "data": {
      "text/plain": [
       "<matplotlib.collections.PathCollection at 0x166f1b571c0>"
      ]
     },
     "execution_count": 134,
     "metadata": {},
     "output_type": "execute_result"
    },
    {
     "data": {
      "image/png": "[encoded data removed]",
      "text/plain": [
       "<Figure size 432x288 with 1 Axes>"
      ]
     },
     "metadata": {
      "needs_background": "light"
     },
     "output_type": "display_data"
    }
   ],
   "source": [
    "plt.scatter(df['h'],df['Lambda_lhs'])"
   ]
  },
  {
   "cell_type": "code",
   "execution_count": 214,
   "metadata": {},
   "outputs": [],
   "source": [
    "df_uniform=pd.read_csv('Samples_generated_Uniform_100_5000.csv',index_col=False)\n",
    "dataset_uni = df_uniform.values\n",
    "lambda_100=dataset_uni[1:100,4]\n",
    "X_uni = dataset_uni[1:100,1:3]\n",
    "dataset_Y_uni=df_uniform['lambda']\n",
    "X_uni_data=pd.DataFrame(X_uni, columns=['h', 'T'])\n",
    "Y_uni=dataset_Y_uni.values\n",
    "X_uni.shape\n",
    "min_max_scaler =MinMaxScaler()\n",
    "X_scale_uni= min_max_scaler.fit_transform(X_uni)\n"
   ]
  },
  {
   "cell_type": "code",
   "execution_count": 219,
   "metadata": {},
   "outputs": [
    {
     "data": {
      "text/plain": [
       "array([5.300e-05, 1.097e-04, 1.505e-04, 1.729e-04, 1.834e-04, 1.878e-04,\n",
       "       1.897e-04, 1.902e-04, 1.907e-04, 1.908e-04, 1.909e-04, 1.908e-04,\n",
       "       1.908e-04, 1.908e-04, 1.909e-04, 1.909e-04, 1.909e-04, 1.909e-04,\n",
       "       1.909e-04, 1.909e-04, 1.909e-04, 1.909e-04, 1.909e-04, 1.909e-04,\n",
       "       1.908e-04, 1.909e-04, 1.909e-04, 1.909e-04, 1.909e-04, 1.909e-04,\n",
       "       1.909e-04, 1.909e-04, 1.909e-04, 1.909e-04, 1.909e-04, 1.909e-04,\n",
       "       1.909e-04, 1.909e-04, 1.909e-04, 1.909e-04, 1.909e-04, 1.909e-04,\n",
       "       1.909e-04, 1.909e-04, 1.909e-04, 1.909e-04, 1.909e-04, 1.909e-04,\n",
       "       1.909e-04, 1.909e-04, 1.909e-04, 1.909e-04, 1.909e-04, 1.909e-04,\n",
       "       1.909e-04, 1.909e-04, 1.909e-04, 1.909e-04, 1.909e-04, 1.909e-04,\n",
       "       1.909e-04, 1.909e-04, 1.909e-04, 1.909e-04, 1.909e-04, 1.909e-04,\n",
       "       1.909e-04, 1.909e-04, 1.909e-04, 1.909e-04, 1.909e-04, 1.909e-04,\n",
       "       1.909e-04, 1.909e-04, 1.909e-04, 1.909e-04, 1.909e-04, 1.909e-04,\n",
       "       1.909e-04, 1.909e-04, 1.909e-04, 1.909e-04, 1.910e-04, 1.910e-04,\n",
       "       1.910e-04, 1.910e-04, 1.910e-04, 1.910e-04, 1.909e-04, 1.909e-04,\n",
       "       1.909e-04, 1.909e-04, 1.909e-04, 1.909e-04, 1.909e-04, 1.909e-04,\n",
       "       1.909e-04, 1.909e-04, 1.909e-04])"
      ]
     },
     "execution_count": 219,
     "metadata": {},
     "output_type": "execute_result"
    }
   ],
   "source": [
    "lambda_100"
   ]
  },
  {
   "cell_type": "code",
   "execution_count": 210,
   "metadata": {},
   "outputs": [],
   "source": [
    "lambda_100_test=pd.DataFrame(lambda_100,columns=['lambda_0']   )    "
   ]
  },
  {
   "cell_type": "code",
   "execution_count": 201,
   "metadata": {},
   "outputs": [],
   "source": [
    "y_pred_uni = model.predict(X_scale_uni)\n"
   ]
  },
  {
   "cell_type": "code",
   "execution_count": 218,
   "metadata": {},
   "outputs": [
    {
     "data": {
      "text/plain": [
       "array([[0.00036359],\n",
       "       [0.00024104],\n",
       "       [0.00024104],\n",
       "       [0.00024104],\n",
       "       [0.00024104],\n",
       "       [0.00024104],\n",
       "       [0.00024104],\n",
       "       [0.00024104],\n",
       "       [0.00024104],\n",
       "       [0.00024104],\n",
       "       [0.00024104],\n",
       "       [0.00024104],\n",
       "       [0.00024104],\n",
       "       [0.00024104],\n",
       "       [0.00024104],\n",
       "       [0.00024104],\n",
       "       [0.00024104],\n",
       "       [0.00024104],\n",
       "       [0.00024104],\n",
       "       [0.00024104],\n",
       "       [0.00024104],\n",
       "       [0.00024104],\n",
       "       [0.00024104],\n",
       "       [0.00024104],\n",
       "       [0.00024104],\n",
       "       [0.00024104],\n",
       "       [0.00024104],\n",
       "       [0.00024104],\n",
       "       [0.00024104],\n",
       "       [0.00024104],\n",
       "       [0.00024104],\n",
       "       [0.00024104],\n",
       "       [0.00024104],\n",
       "       [0.00024104],\n",
       "       [0.00024104],\n",
       "       [0.00024104],\n",
       "       [0.00024104],\n",
       "       [0.00024104],\n",
       "       [0.00024104],\n",
       "       [0.00024104],\n",
       "       [0.00024104],\n",
       "       [0.00024104],\n",
       "       [0.00024104],\n",
       "       [0.00024104],\n",
       "       [0.00024104],\n",
       "       [0.00024104],\n",
       "       [0.00024104],\n",
       "       [0.00024104],\n",
       "       [0.00024104],\n",
       "       [0.00024104],\n",
       "       [0.00024104],\n",
       "       [0.00024104],\n",
       "       [0.00024104],\n",
       "       [0.00024104],\n",
       "       [0.00024104],\n",
       "       [0.00024104],\n",
       "       [0.00024104],\n",
       "       [0.00024104],\n",
       "       [0.00024104],\n",
       "       [0.00024104],\n",
       "       [0.00024104],\n",
       "       [0.00024104],\n",
       "       [0.00024104],\n",
       "       [0.00024104],\n",
       "       [0.00024104],\n",
       "       [0.00024104],\n",
       "       [0.00024104],\n",
       "       [0.00024104],\n",
       "       [0.00024104],\n",
       "       [0.00024104],\n",
       "       [0.00024104],\n",
       "       [0.00024104],\n",
       "       [0.00024104],\n",
       "       [0.00024104],\n",
       "       [0.00024104],\n",
       "       [0.00024104],\n",
       "       [0.00024104],\n",
       "       [0.00024104],\n",
       "       [0.00024104],\n",
       "       [0.00024104],\n",
       "       [0.00024104],\n",
       "       [0.00024104],\n",
       "       [0.00024104],\n",
       "       [0.00024104],\n",
       "       [0.00024104],\n",
       "       [0.00024104],\n",
       "       [0.00024104],\n",
       "       [0.00024104],\n",
       "       [0.00024104],\n",
       "       [0.00024104],\n",
       "       [0.00024104],\n",
       "       [0.00024104],\n",
       "       [0.00024104],\n",
       "       [0.00024104],\n",
       "       [0.00024104],\n",
       "       [0.00024104],\n",
       "       [0.00024104],\n",
       "       [0.00024104],\n",
       "       [0.00024104]], dtype=float32)"
      ]
     },
     "execution_count": 218,
     "metadata": {},
     "output_type": "execute_result"
    }
   ],
   "source": [
    "y_pred_uni"
   ]
  },
  {
   "cell_type": "code",
   "execution_count": 220,
   "metadata": {},
   "outputs": [
    {
     "data": {
      "text/plain": [
       "6.086496355281803e-05"
      ]
     },
     "execution_count": 220,
     "metadata": {},
     "output_type": "execute_result"
    },
    {
     "data": {
      "image/png": "[encoded data removed]",
      "text/plain": [
       "<Figure size 432x288 with 1 Axes>"
      ]
     },
     "metadata": {
      "needs_background": "light"
     },
     "output_type": "display_data"
    }
   ],
   "source": [
    "plt.plot(X_uni_data['h'],y_pred_uni)\n",
    "np.sqrt(mean_squared_error(lambda_100,y_pred_uni))"
   ]
  },
  {
   "cell_type": "code",
   "execution_count": null,
   "metadata": {},
   "outputs": [],
   "source": [
    "M1 = Input(shape=(num_features,),name='M1')\n",
    "M2 = Dense(400, activation='relu',name='M2')(M1)\n",
    "M3 = Dense(1, activation='sigmoid',name='M3')(M2)\n",
    "\n",
    "C2 = Dense(40, activation='relu',name='C2')(M1)\n",
    "C3 = Dense(1, activation='sigmoid',name='C3')(C2)\n",
    "\n",
    "\n",
    "#O = Concatenate(axis=-1)([M3, C3])\n",
    "merged = Model(inputs=[M1],outputs=[M3, C3])\n",
    "plot_model(merged,to_file='architecture4.png',show_shapes=True)\n",
    "loss1 = 'binary_crossentropy'\n",
    "loss2 = 'binary_crossentropy'\n",
    "\n",
    "merged.compile(optimizer='adam',loss=[loss1, loss2],loss_weights=[alpham, 1 - alpham], metrics=['accuracy'])\n",
    "history = merged.fit(X_train, [y_train,y_train] ,batch_size=16, epochs=100)\n",
    "score = merged.evaluate(X_test, [y_test,y_test], batch_size=16)"
   ]
  },
  {
   "cell_type": "code",
   "execution_count": null,
   "metadata": {},
   "outputs": [],
   "source": []
  },
  {
   "cell_type": "code",
   "execution_count": null,
   "metadata": {},
   "outputs": [],
   "source": []
  },
  {
   "cell_type": "code",
   "execution_count": null,
   "metadata": {},
   "outputs": [],
   "source": []
  }
 ],
 "metadata": {
  "kernelspec": {
   "display_name": "Python 3.10.7 64-bit (windows store)",
   "language": "python",
   "name": "python3"
  },
  "language_info": {
   "codemirror_mode": {
    "name": "ipython",
    "version": 3
   },
   "file_extension": ".py",
   "mimetype": "text/x-python",
   "name": "python",
   "nbconvert_exporter": "python",
   "pygments_lexer": "ipython3",
   "version": "3.10.7"
  },
  "orig_nbformat": 4,
  "vscode": {
   "interpreter": {
    "hash": "be0c76a15e7db832c1cef9e000d0973fde535108692ea45e0855d7f2c98f1a97"
   }
  }
 },
 "nbformat": 4,
 "nbformat_minor": 2
}

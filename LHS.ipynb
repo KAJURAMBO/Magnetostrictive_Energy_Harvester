{
 "cells": [
  {
   "cell_type": "code",
   "execution_count": 2,
   "metadata": {},
   "outputs": [],
   "source": [
    "import lhsmdu\n",
    "import matplotlib.pyplot as plt\n",
    "import numpy\n",
    "import pandas as pd\n",
    "import csv\n",
    "from scipy.stats.qmc import LatinHypercube  \n",
    "import seaborn as sns\n",
    "from sklearn import preprocessing\n",
    "from sklearn.preprocessing import StandardScaler,MinMaxScaler\n",
    "\n",
    "import pandas as pd\n",
    "import plotly\n",
    "import plotly.graph_objs as go\n",
    "\n",
    "import random \n",
    "\n"
   ]
  },
  {
   "cell_type": "code",
   "execution_count": 3,
   "metadata": {},
   "outputs": [],
   "source": [
    "\n",
    "'''A Latin hypercube sample [1] generates  points in . Each univariate \n",
    "marginal distribution is stratified, placing exactly one point in  for . \n",
    "They are still applicable when .'''\n",
    "random.seed(0)\n",
    "engine = LatinHypercube(d=5)\n",
    "sample = engine.random(n=5000)\n",
    "\n"
   ]
  },
  {
   "cell_type": "code",
   "execution_count": 4,
   "metadata": {},
   "outputs": [],
   "source": [
    "E=59*10**9"
   ]
  },
  {
   "cell_type": "code",
   "execution_count": 5,
   "metadata": {},
   "outputs": [],
   "source": [
    "LHS_dataframe=pd.DataFrame(sample)"
   ]
  },
  {
   "cell_type": "code",
   "execution_count": 10,
   "metadata": {},
   "outputs": [],
   "source": [
    "LHS_dataframe.to_csv('LHS_sampling.csv',index=False) "
   ]
  },
  {
   "cell_type": "code",
   "execution_count": 11,
   "metadata": {},
   "outputs": [],
   "source": [
    "Samples=pd.read_csv('LHS_sampling.csv')"
   ]
  },
  {
   "cell_type": "code",
   "execution_count": 16,
   "metadata": {},
   "outputs": [
    {
     "data": {
      "text/html": [
       "<div>\n",
       "<style scoped>\n",
       "    .dataframe tbody tr th:only-of-type {\n",
       "        vertical-align: middle;\n",
       "    }\n",
       "\n",
       "    .dataframe tbody tr th {\n",
       "        vertical-align: top;\n",
       "    }\n",
       "\n",
       "    .dataframe thead th {\n",
       "        text-align: right;\n",
       "    }\n",
       "</style>\n",
       "<table border=\"1\" class=\"dataframe\">\n",
       "  <thead>\n",
       "    <tr style=\"text-align: right;\">\n",
       "      <th></th>\n",
       "      <th>0</th>\n",
       "      <th>1</th>\n",
       "    </tr>\n",
       "  </thead>\n",
       "  <tbody>\n",
       "    <tr>\n",
       "      <th>0</th>\n",
       "      <td>0.057141</td>\n",
       "      <td>0.022368</td>\n",
       "    </tr>\n",
       "    <tr>\n",
       "      <th>1</th>\n",
       "      <td>0.507068</td>\n",
       "      <td>0.297431</td>\n",
       "    </tr>\n",
       "    <tr>\n",
       "      <th>2</th>\n",
       "      <td>0.799798</td>\n",
       "      <td>0.768415</td>\n",
       "    </tr>\n",
       "    <tr>\n",
       "      <th>3</th>\n",
       "      <td>0.510543</td>\n",
       "      <td>0.169698</td>\n",
       "    </tr>\n",
       "    <tr>\n",
       "      <th>4</th>\n",
       "      <td>0.235435</td>\n",
       "      <td>0.613772</td>\n",
       "    </tr>\n",
       "    <tr>\n",
       "      <th>...</th>\n",
       "      <td>...</td>\n",
       "      <td>...</td>\n",
       "    </tr>\n",
       "    <tr>\n",
       "      <th>4995</th>\n",
       "      <td>0.771364</td>\n",
       "      <td>0.330012</td>\n",
       "    </tr>\n",
       "    <tr>\n",
       "      <th>4996</th>\n",
       "      <td>0.936863</td>\n",
       "      <td>0.009964</td>\n",
       "    </tr>\n",
       "    <tr>\n",
       "      <th>4997</th>\n",
       "      <td>0.619450</td>\n",
       "      <td>0.306379</td>\n",
       "    </tr>\n",
       "    <tr>\n",
       "      <th>4998</th>\n",
       "      <td>0.342470</td>\n",
       "      <td>0.696956</td>\n",
       "    </tr>\n",
       "    <tr>\n",
       "      <th>4999</th>\n",
       "      <td>0.267523</td>\n",
       "      <td>0.061991</td>\n",
       "    </tr>\n",
       "  </tbody>\n",
       "</table>\n",
       "<p>5000 rows × 2 columns</p>\n",
       "</div>"
      ],
      "text/plain": [
       "             0         1\n",
       "0     0.057141  0.022368\n",
       "1     0.507068  0.297431\n",
       "2     0.799798  0.768415\n",
       "3     0.510543  0.169698\n",
       "4     0.235435  0.613772\n",
       "...        ...       ...\n",
       "4995  0.771364  0.330012\n",
       "4996  0.936863  0.009964\n",
       "4997  0.619450  0.306379\n",
       "4998  0.342470  0.696956\n",
       "4999  0.267523  0.061991\n",
       "\n",
       "[5000 rows x 2 columns]"
      ]
     },
     "execution_count": 16,
     "metadata": {},
     "output_type": "execute_result"
    }
   ],
   "source": [
    "Samples.drop(['2',\n",
    "\n",
    "'3','4'],axis=1)"
   ]
  },
  {
   "cell_type": "code",
   "execution_count": 19,
   "metadata": {},
   "outputs": [],
   "source": [
    "Samples['magnetic field'] =Samples['0']*31908\n",
    "Samples['Stress_100'] =Samples['1']*0.8*60*10**6\n",
    "# Samples['Magnetisation'] =Samples['Magnetisation']*1.450*10**6\n",
    "# Samples['Strain'] =Samples['Strain']*2.5490*10**(-4)\n",
    "# Samples['magnetostriction'] =Samples['magnetostriction']*(Samples['magnetostriction']-Samples['Stress_100']/E)\n"
   ]
  },
  {
   "cell_type": "code",
   "execution_count": 20,
   "metadata": {},
   "outputs": [],
   "source": [
    "Samples_Generated=Samples"
   ]
  },
  {
   "cell_type": "code",
   "execution_count": 31,
   "metadata": {},
   "outputs": [],
   "source": [
    "\n",
    "Samples_Generated['stress_2']=0\n",
    "Samples_Generated['stress_3']=0\n",
    "Samples_Generated['stress_4']=0\n",
    "Samples_Generated['stress_5']=0\n",
    "Samples_Generated['stress_6']=0\n",
    "LHS=Samples_Generated.drop(['0','1','2','3','4'],axis=1)"
   ]
  },
  {
   "cell_type": "code",
   "execution_count": 32,
   "metadata": {},
   "outputs": [],
   "source": [
    "LHS.to_csv('Samples_generated_LHS_5000.csv')### Final samples input to MATLAB"
   ]
  },
  {
   "cell_type": "code",
   "execution_count": 33,
   "metadata": {},
   "outputs": [],
   "source": [
    "Visualise=pd.read_csv('Samples_generated.csv')"
   ]
  },
  {
   "cell_type": "code",
   "execution_count": 3,
   "metadata": {},
   "outputs": [],
   "source": [
    "Visualise.columns\n",
    "Data=Visualise.drop(['Unnamed: 0'],axis=1)"
   ]
  },
  {
   "cell_type": "code",
   "execution_count": 42,
   "metadata": {},
   "outputs": [
    {
     "data": {
      "text/plain": [
       "Index(['magnetic field', 'Stress_100', 'Magnetisation', 'magnetostriction',\n",
       "       'Strain'],\n",
       "      dtype='object')"
      ]
     },
     "execution_count": 42,
     "metadata": {},
     "output_type": "execute_result"
    }
   ],
   "source": [
    "Data.columns"
   ]
  },
  {
   "cell_type": "code",
   "execution_count": 45,
   "metadata": {},
   "outputs": [],
   "source": [
    "LHS_input=Data.drop(['Magnetisation', 'magnetostriction',\n",
    "       'Strain'],axis=1)\n"
   ]
  },
  {
   "cell_type": "code",
   "execution_count": 47,
   "metadata": {},
   "outputs": [
    {
     "data": {
      "text/plain": [
       "Index(['magnetic field', 'Stress_100'], dtype='object')"
      ]
     },
     "execution_count": 47,
     "metadata": {},
     "output_type": "execute_result"
    }
   ],
   "source": [
    "LHS_input.to_csv('LHS_input.csv')\n",
    "LHS_input.columns"
   ]
  },
  {
   "cell_type": "code",
   "execution_count": 4,
   "metadata": {},
   "outputs": [
    {
     "data": {
      "text/plain": [
       "Text(0, 0.5, 'magnetic field')"
      ]
     },
     "execution_count": 4,
     "metadata": {},
     "output_type": "execute_result"
    },
    {
     "data": {
      "text/plain": [
       "<Figure size 360x360 with 0 Axes>"
      ]
     },
     "metadata": {},
     "output_type": "display_data"
    },
    {
     "data": {
      "image/png": "[encoded data removed]",
      "text/plain": [
       "<Figure size 432x288 with 1 Axes>"
      ]
     },
     "metadata": {
      "needs_background": "light"
     },
     "output_type": "display_data"
    }
   ],
   "source": [
    "plt.figure(figsize=(5,5))\n",
    "fig, ax = plt.subplots()\n",
    "plt.title(\"Stress_100 vs magnetic field\")\n",
    "plt.scatter( Visualise['magnetic field'],Visualise['Stress_100'])\n",
    "plt.xlabel(\"Stress_100\")\n",
    "plt.ylabel(\"magnetic field\")\n"
   ]
  },
  {
   "cell_type": "code",
   "execution_count": 5,
   "metadata": {},
   "outputs": [
    {
     "data": {
      "text/plain": [
       "Text(0, 0.5, 'Magnetisation')"
      ]
     },
     "execution_count": 5,
     "metadata": {},
     "output_type": "execute_result"
    },
    {
     "data": {
      "text/plain": [
       "<Figure size 360x360 with 0 Axes>"
      ]
     },
     "metadata": {},
     "output_type": "display_data"
    },
    {
     "data": {
      "image/png": "[encoded data removed]",
      "text/plain": [
       "<Figure size 432x288 with 1 Axes>"
      ]
     },
     "metadata": {
      "needs_background": "light"
     },
     "output_type": "display_data"
    }
   ],
   "source": [
    "plt.figure(figsize=(5,5))\n",
    "fig, ax = plt.subplots()\n",
    "plt.title(\"Stress_100 vs Magnetisation\")\n",
    "plt.scatter( Visualise['Magnetisation'],Visualise['Stress_100'])\n",
    "plt.xlabel(\"Stress_100\")\n",
    "plt.ylabel(\"Magnetisation\")\n",
    "\n"
   ]
  },
  {
   "cell_type": "code",
   "execution_count": 6,
   "metadata": {},
   "outputs": [
    {
     "data": {
      "image/png": "[encoded data removed]",
      "text/plain": [
       "<Figure size 432x288 with 2 Axes>"
      ]
     },
     "metadata": {
      "needs_background": "light"
     },
     "output_type": "display_data"
    }
   ],
   "source": [
    "# print(Data.corr())\n",
    "dataplot = sns.heatmap(Data.corr(), cmap=\"YlGnBu\", annot=True)\n",
    "  \n",
    "# displaying heatmap\n",
    "plt.show()"
   ]
  },
  {
   "cell_type": "code",
   "execution_count": 16,
   "metadata": {},
   "outputs": [],
   "source": [
    "mm = preprocessing.MinMaxScaler()\n",
    "\n",
    "Min_max_scaling = mm.fit_transform(Data)\n",
    "Min_max=pd.DataFrame(Min_max_scaling,columns=['magnetic field', 'Stress_100', 'Magnetisation', 'magnetostriction',\n",
    "       'Strain'])"
   ]
  },
  {
   "cell_type": "code",
   "execution_count": 25,
   "metadata": {},
   "outputs": [],
   "source": [
    "y =['c1','c2','c3','c4','c5']"
   ]
  },
  {
   "cell_type": "code",
   "execution_count": 17,
   "metadata": {},
   "outputs": [
    {
     "data": {
      "text/html": [
       "<div>\n",
       "<style scoped>\n",
       "    .dataframe tbody tr th:only-of-type {\n",
       "        vertical-align: middle;\n",
       "    }\n",
       "\n",
       "    .dataframe tbody tr th {\n",
       "        vertical-align: top;\n",
       "    }\n",
       "\n",
       "    .dataframe thead th {\n",
       "        text-align: right;\n",
       "    }\n",
       "</style>\n",
       "<table border=\"1\" class=\"dataframe\">\n",
       "  <thead>\n",
       "    <tr style=\"text-align: right;\">\n",
       "      <th></th>\n",
       "      <th>magnetic field</th>\n",
       "      <th>Stress_100</th>\n",
       "      <th>Magnetisation</th>\n",
       "      <th>magnetostriction</th>\n",
       "      <th>Strain</th>\n",
       "    </tr>\n",
       "  </thead>\n",
       "  <tbody>\n",
       "    <tr>\n",
       "      <th>0</th>\n",
       "      <td>1.000000</td>\n",
       "      <td>0.744056</td>\n",
       "      <td>0.936570</td>\n",
       "      <td>0.581696</td>\n",
       "      <td>0.194128</td>\n",
       "    </tr>\n",
       "    <tr>\n",
       "      <th>1</th>\n",
       "      <td>0.201376</td>\n",
       "      <td>0.358133</td>\n",
       "      <td>0.750682</td>\n",
       "      <td>0.249190</td>\n",
       "      <td>0.104879</td>\n",
       "    </tr>\n",
       "    <tr>\n",
       "      <th>2</th>\n",
       "      <td>0.253917</td>\n",
       "      <td>0.415970</td>\n",
       "      <td>0.915204</td>\n",
       "      <td>0.528286</td>\n",
       "      <td>0.343007</td>\n",
       "    </tr>\n",
       "    <tr>\n",
       "      <th>3</th>\n",
       "      <td>0.129215</td>\n",
       "      <td>0.676066</td>\n",
       "      <td>0.379828</td>\n",
       "      <td>0.645088</td>\n",
       "      <td>0.967203</td>\n",
       "    </tr>\n",
       "    <tr>\n",
       "      <th>4</th>\n",
       "      <td>0.936279</td>\n",
       "      <td>0.700142</td>\n",
       "      <td>0.611363</td>\n",
       "      <td>0.090807</td>\n",
       "      <td>0.930512</td>\n",
       "    </tr>\n",
       "  </tbody>\n",
       "</table>\n",
       "</div>"
      ],
      "text/plain": [
       "   magnetic field  Stress_100  Magnetisation  magnetostriction    Strain\n",
       "0        1.000000    0.744056       0.936570          0.581696  0.194128\n",
       "1        0.201376    0.358133       0.750682          0.249190  0.104879\n",
       "2        0.253917    0.415970       0.915204          0.528286  0.343007\n",
       "3        0.129215    0.676066       0.379828          0.645088  0.967203\n",
       "4        0.936279    0.700142       0.611363          0.090807  0.930512"
      ]
     },
     "execution_count": 17,
     "metadata": {},
     "output_type": "execute_result"
    }
   ],
   "source": [
    "Min_max.head()"
   ]
  },
  {
   "cell_type": "code",
   "execution_count": 40,
   "metadata": {},
   "outputs": [
    {
     "data": {
      "text/plain": [
       "'5D Plot.html'"
      ]
     },
     "execution_count": 40,
     "metadata": {},
     "output_type": "execute_result"
    }
   ],
   "source": [
    "\n",
    "#Set marker properties\n",
    "markersize = Data['Magnetisation']\n",
    "markercolor =Data['magnetostriction']\n",
    "\n",
    "\n",
    "#Make Plotly figure\n",
    "fig1 = go.Scatter3d(x=Data['Stress_100'],\n",
    "                    y=Data['magnetic field'],\n",
    "                    z=Data['Strain'],\n",
    "                    marker=dict(size=markersize,\n",
    "                                color=markercolor,\n",
    "                                opacity=0.5,\n",
    "                                reversescale=True,\n",
    "                                colorscale='Blues'),\n",
    "                    line=dict (width=0.02),\n",
    "                    mode='markers')\n",
    "\n",
    "#Make Plot.ly Layout\n",
    "mylayout = go.Layout(scene=dict(xaxis=dict( title=\"Stress\"),\n",
    "                                yaxis=dict( title=\"h\"),\n",
    "                                zaxis=dict(title=\"s\")),)\n",
    "\n",
    "#Plot and save html\n",
    "plotly.offline.plot({\"data\": [fig1],\n",
    "                     \"layout\": mylayout},\n",
    "                     auto_open=True,\n",
    "                     filename=(\"5D Plot.html\"))"
   ]
  },
  {
   "cell_type": "code",
   "execution_count": null,
   "metadata": {},
   "outputs": [],
   "source": []
  }
 ],
 "metadata": {
  "kernelspec": {
   "display_name": "Python 3.10.7 64-bit (windows store)",
   "language": "python",
   "name": "python3"
  },
  "language_info": {
   "codemirror_mode": {
    "name": "ipython",
    "version": 3
   },
   "file_extension": ".py",
   "mimetype": "text/x-python",
   "name": "python",
   "nbconvert_exporter": "python",
   "pygments_lexer": "ipython3",
   "version": "3.10.7"
  },
  "orig_nbformat": 4,
  "vscode": {
   "interpreter": {
    "hash": "be0c76a15e7db832c1cef9e000d0973fde535108692ea45e0855d7f2c98f1a97"
   }
  }
 },
 "nbformat": 4,
 "nbformat_minor": 2
}

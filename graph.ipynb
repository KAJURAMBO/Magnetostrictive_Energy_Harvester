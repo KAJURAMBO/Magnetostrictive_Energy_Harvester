{
 "cells": [
  {
   "cell_type": "code",
   "execution_count": 8,
   "metadata": {},
   "outputs": [],
   "source": [
    "import numpy as np\n",
    "import pandas as pd\n",
    "import sympy\n",
    "from cmath import exp\n"
   ]
  },
  {
   "cell_type": "code",
   "execution_count": 2,
   "metadata": {},
   "outputs": [],
   "source": [
    "#Constants\n",
    "hund_lambda=0.000255\n",
    "hund_one_lambda=-0.000007\n",
    "mu_o=4*np.pi*10**(-7)\n",
    "Ms=1.83/mu_o\n",
    "K1=3.6*10**4\n",
    "K2=0\n",
    "omega=625\n",
    "Gamma_sig= 0.8\n",
    "\n"
   ]
  },
  {
   "cell_type": "code",
   "execution_count": 3,
   "metadata": {},
   "outputs": [],
   "source": [
    "rho=7800"
   ]
  },
  {
   "cell_type": "code",
   "execution_count": 5,
   "metadata": {},
   "outputs": [],
   "source": [
    "def momentum(T,b,rho,u,x):\n",
    "       stress_grad= np.gradient(T)\n",
    "       u_x=u.diff(x)\n",
    "       u_xx=u_x.diff(x)\n",
    "       result_moment=stress_grad+rho*b-rho*u_xx\n",
    "\n",
    "       return result_moment"
   ]
  },
  {
   "cell_type": "code",
   "execution_count": 7,
   "metadata": {},
   "outputs": [],
   "source": [
    "def strain(u):\n",
    "        u_grad=np.gradient(u)\n",
    "        u_transposegrad=np.transpose(np.gradient(u))\n",
    "        S=1/2*(u_grad+u_transposegrad)\n",
    "\n",
    "        return S"
   ]
  },
  {
   "cell_type": "code",
   "execution_count": null,
   "metadata": {},
   "outputs": [],
   "source": [
    "\n",
    "\n",
    "\n",
    "def zeta(U,omega):\n",
    "        exp(-U)\n",
    "        \n"
   ]
  }
 ],
 "metadata": {
  "kernelspec": {
   "display_name": "Python 3.10.6 64-bit (windows store)",
   "language": "python",
   "name": "python3"
  },
  "language_info": {
   "codemirror_mode": {
    "name": "ipython",
    "version": 3
   },
   "file_extension": ".py",
   "mimetype": "text/x-python",
   "name": "python",
   "nbconvert_exporter": "python",
   "pygments_lexer": "ipython3",
   "version": "3.10.6"
  },
  "orig_nbformat": 4,
  "vscode": {
   "interpreter": {
    "hash": "be0c76a15e7db832c1cef9e000d0973fde535108692ea45e0855d7f2c98f1a97"
   }
  }
 },
 "nbformat": 4,
 "nbformat_minor": 2
}
